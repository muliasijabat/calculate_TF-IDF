{
  "nbformat": 4,
  "nbformat_minor": 0,
  "metadata": {
    "colab": {
      "provenance": []
    },
    "kernelspec": {
      "name": "python3",
      "display_name": "Python 3"
    },
    "language_info": {
      "name": "python"
    }
  },
  "cells": [
    {
      "cell_type": "markdown",
      "source": [
        "# Statement\n",
        "\n",
        "1. Document A contains 100 words and the word **TRINGGILING** appears 12 times.\n",
        "2. Out of a total of 1,000,000 documents, the word **TRINGGILING** appears 300,000 times."
      ],
      "metadata": {
        "id": "EbZ0kY2S1lr5"
      }
    },
    {
      "cell_type": "markdown",
      "source": [
        "# Question 1\n",
        "\n",
        "What is the IDF value of the word *Tringgiling*\n",
        "\n",
        "\n",
        "**Formula**\n",
        "IDF = log(N / (df + 1))\n"
      ],
      "metadata": {
        "id": "QXnAXtj71151"
      }
    },
    {
      "cell_type": "code",
      "source": [
        "import math\n",
        "\n",
        "def calculate_idf(total_num_of_doc, documents_with_term):\n",
        "    idf = math.log10(total_num_of_doc / (documents_with_term +1))\n",
        "    return idf\n",
        "\n",
        "total_num_of_doc = 1000000\n",
        "documents_with_term = 300000\n",
        "\n",
        "idf = calculate_idf(total_num_of_doc, documents_with_term)\n",
        "print(\"Nilai IDF untuk kata 'Tringgiling':\", idf)"
      ],
      "metadata": {
        "id": "iSvNYQjZMHYt",
        "colab": {
          "base_uri": "https://localhost:8080/"
        },
        "outputId": "c2d39339-d67a-44cd-9aaf-6ae898d25e26"
      },
      "execution_count": 1,
      "outputs": [
        {
          "output_type": "stream",
          "name": "stdout",
          "text": [
            "Nilai IDF untuk kata 'Tringgiling': 0.5228772976344773\n"
          ]
        }
      ]
    },
    {
      "cell_type": "code",
      "source": [
        "idf_value = idf"
      ],
      "metadata": {
        "id": "0YSyZRdx83Hf"
      },
      "execution_count": 2,
      "outputs": []
    },
    {
      "cell_type": "markdown",
      "source": [
        "# What is the weight of the TF-IDF word \"pangolin\" in Document A?\n",
        "\n",
        "tf-idf = term_frequency * inverse_document_frequency (idf)"
      ],
      "metadata": {
        "id": "TPKSMGmS2gEo"
      }
    },
    {
      "cell_type": "code",
      "source": [
        "term_of_freq = 0.12\n",
        "\n",
        "tf_idf = term_of_freq * idf_value\n",
        "\n",
        "\n",
        "# Menggunakan nilai IDF dalam syntax berikutnya\n",
        "\n",
        "tf_idf = term_of_freq * idf_value\n",
        "print(\"Nilai TF-IDF untuk kata 'Tringgiling':\", tf_idf)"
      ],
      "metadata": {
        "colab": {
          "base_uri": "https://localhost:8080/"
        },
        "id": "1Gr72Qgf3rlY",
        "outputId": "4a1197a4-d2d0-46f1-82f7-18a9cd3d2a9a"
      },
      "execution_count": null,
      "outputs": [
        {
          "output_type": "stream",
          "name": "stdout",
          "text": [
            "Nilai TF-IDF untuk kata 'Tringgiling': 0.06274527571613728\n"
          ]
        }
      ]
    }
  ]
}